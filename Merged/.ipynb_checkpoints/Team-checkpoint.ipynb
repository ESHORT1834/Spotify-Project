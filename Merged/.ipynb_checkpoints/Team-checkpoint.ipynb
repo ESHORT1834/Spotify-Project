{
 "cells": [
  {
   "cell_type": "code",
   "execution_count": null,
   "metadata": {},
   "outputs": [],
   "source": [
    "import os\n",
    "import spotipy\n",
    "from spotipy.oauth2 import SpotifyClientCredentials\n",
    "import spotipy.util as util\n",
    "from pprint import pprint\n",
    "import pandas as pd\n",
    "import matplotlib.pyplot as plt\n",
    "\n",
    "\n",
    "cid = \"e95094f95f8b4a5089263af1484fec78\"\n",
    "secret = \"471a83d85bf843c99f368383a7a5c0e4\"\n",
    "username = \"128495218\"\n",
    "redirect_uri = \"https://example.com/callback/\"\n",
    "\n",
    "os.environ[\"SPOTIPY_CLIENT_ID\"] = cid\n",
    "os.environ[\"SPOTIPY_CLIENT_SECRET\"] = secret\n",
    "os.environ[\"SPOTIPY_REDIRECT_URI\"] = redirect_uri"
   ]
  },
  {
   "cell_type": "code",
   "execution_count": null,
   "metadata": {},
   "outputs": [],
   "source": [
    "client_credentials_manager = SpotifyClientCredentials(client_id=cid, client_secret=secret)\n",
    "sp = spotipy.Spotify(client_credentials_manager=client_credentials_manager)\n",
    "scope = 'user-library-read playlist-read-private'\n",
    "token = util.prompt_for_user_token(username, scope, redirect_uri=redirect_uri)\n",
    "\n",
    "if token:\n",
    "    sp = spotipy.Spotify(auth=token)\n",
    "else:\n",
    "    print(\"Can't get token for\", username)\n",
    "\n",
    "print(sp)\n"
   ]
  },
  {
   "cell_type": "code",
   "execution_count": null,
   "metadata": {},
   "outputs": [],
   "source": [
    "# Kayla's Playlist\n",
    "kayla_playlist = sp.user_playlist(\"YOUR_EMAIL\", \"2hHZqUP3qVt7OLAU1kiDE4\")\n",
    "tracks = kayla_playlist[\"tracks\"]\n",
    "songs = tracks[\"items\"]\n",
    "while tracks['next']:\n",
    "    tracks = sp.next(tracks)\n",
    "    for item in tracks[\"items\"]:\n",
    "        songs.append(item)\n",
    "ids = [] \n",
    "for i in range(len(songs)):\n",
    "    ids.append(songs[i]['track']['id'])\n",
    "print(ids)"
   ]
  },
  {
   "cell_type": "code",
   "execution_count": null,
   "metadata": {},
   "outputs": [],
   "source": [
    "# Kayla's Feature List\n",
    "k_features = []\n",
    "for i in range(0,len(ids),50):\n",
    "    audio_features = sp.audio_features(ids)\n",
    "    for track in audio_features:\n",
    "        k_features.append(track)\n",
    "        k_features[-1]['target'] = 1\n",
    "        \n",
    "pprint(k_features)"
   ]
  },
  {
   "cell_type": "code",
   "execution_count": null,
   "metadata": {},
   "outputs": [],
   "source": [
    "# Kayla's DataFrame\n",
    "k_audio_data = pd.DataFrame(k_features)\n",
    "k_audio_data"
   ]
  }
 ],
 "metadata": {
  "kernelspec": {
   "display_name": "Python 3",
   "language": "python",
   "name": "python3"
  },
  "language_info": {
   "codemirror_mode": {
    "name": "ipython",
    "version": 3
   },
   "file_extension": ".py",
   "mimetype": "text/x-python",
   "name": "python",
   "nbconvert_exporter": "python",
   "pygments_lexer": "ipython3",
   "version": "3.6.7"
  }
 },
 "nbformat": 4,
 "nbformat_minor": 2
}
