{
 "cells": [
  {
   "cell_type": "code",
   "execution_count": null,
   "metadata": {},
   "outputs": [],
   "source": [
    "import os\n",
    "import spotipy\n",
    "from spotipy.oauth2 import SpotifyClientCredentials\n",
    "import spotipy.util as util\n",
    "import pandas as pd\n",
    "from matplotlib import pyplot as plt\n",
    "import numpy as np\n",
    "from pprint import pprint\n",
    "\n",
    "cid = \"e95094f95f8b4a5089263af1484fec78\"\n",
    "secret = \"471a83d85bf843c99f368383a7a5c0e4\"\n",
    "username = \"elizabethrose20@yahoo.com\"\n",
    "redirect_uri = \"https://example.com/callback/\"\n",
    "\n",
    "os.environ[\"SPOTIPY_CLIENT_ID\"] = cid\n",
    "os.environ[\"SPOTIPY_CLIENT_SECRET\"] = secret\n",
    "os.environ[\"SPOTIPY_REDIRECT_URI\"] = redirect_uri\n",
    "\n",
    "client_credentials_manager = SpotifyClientCredentials(client_id=cid, client_secret=secret)\n",
    "sp = spotipy.Spotify(client_credentials_manager=client_credentials_manager)\n",
    "scope = 'user-library-read playlist-read-private'\n",
    "token = util.prompt_for_user_token(username, scope, redirect_uri=redirect_uri)\n",
    "\n",
    "if token:\n",
    "    sp = spotipy.Spotify(auth=token)\n",
    "else:\n",
    "    print(\"Can't get token for\", username)\n",
    "\n",
    "print(sp)"
   ]
  },
  {
   "cell_type": "code",
   "execution_count": null,
   "metadata": {},
   "outputs": [],
   "source": [
    "playlists = sp.user_playlists('spotify')\n",
    "while playlists:\n",
    "    for i, playlist in enumerate(playlists['items']):\n",
    "        print(\"%4d %s %s\" % (i + 1 + playlists['offset'], playlist['uri'],  playlist['name']))\n",
    "    if playlists['next']:\n",
    "        playlists = sp.next(playlists)\n",
    "    else:\n",
    "        playlists = None"
   ]
  },
  {
   "cell_type": "code",
   "execution_count": null,
   "metadata": {},
   "outputs": [],
   "source": [
    "erika_playlist = sp.user_playlist(\"YOUR_EMAIL\", \"3KMuj1nD13lVAMEjJKi2H5\")\n",
    "tracks = erika_playlist[\"tracks\"]\n",
    "songs = tracks[\"items\"]\n",
    "while tracks['next']:\n",
    "    tracks = sp.next(tracks)\n",
    "    for item in tracks[\"items\"]:\n",
    "        songs.append(item)\n",
    "ids = [] \n",
    "for i in range(len(songs)):\n",
    "    ids.append(songs[i]['track']['id'])\n",
    "#print(ids)\n",
    "    \n",
    "    \n",
    "# print(len(songs))\n",
    "#print(songs[0]['track']['id'])\n",
    "pprint(erika_playlist)\n",
    "#print(ids)"
   ]
  },
  {
   "cell_type": "code",
   "execution_count": 1,
   "metadata": {},
   "outputs": [
    {
     "ename": "NameError",
     "evalue": "name 'e_audio_data' is not defined",
     "output_type": "error",
     "traceback": [
      "\u001b[0;31m---------------------------------------------------------------------------\u001b[0m",
      "\u001b[0;31mNameError\u001b[0m                                 Traceback (most recent call last)",
      "\u001b[0;32m<ipython-input-1-bc53a0cf3bb2>\u001b[0m in \u001b[0;36m<module>\u001b[0;34m\u001b[0m\n\u001b[0;32m----> 1\u001b[0;31m \u001b[0mtempo\u001b[0m \u001b[0;34m=\u001b[0m \u001b[0me_audio_data\u001b[0m\u001b[0;34m[\u001b[0m\u001b[0me_audio_data\u001b[0m\u001b[0;34m[\u001b[0m\u001b[0;34m'target'\u001b[0m\u001b[0;34m]\u001b[0m \u001b[0;34m==\u001b[0m \u001b[0;36m1\u001b[0m\u001b[0;34m]\u001b[0m\u001b[0;34m[\u001b[0m\u001b[0;34m'tempo'\u001b[0m\u001b[0;34m]\u001b[0m\u001b[0;34m\u001b[0m\u001b[0;34m\u001b[0m\u001b[0m\n\u001b[0m\u001b[1;32m      2\u001b[0m \u001b[0mdance\u001b[0m \u001b[0;34m=\u001b[0m \u001b[0me_audio_data\u001b[0m\u001b[0;34m[\u001b[0m\u001b[0me_audio_data\u001b[0m\u001b[0;34m[\u001b[0m\u001b[0;34m'target'\u001b[0m\u001b[0;34m]\u001b[0m \u001b[0;34m==\u001b[0m \u001b[0;36m1\u001b[0m\u001b[0;34m]\u001b[0m\u001b[0;34m[\u001b[0m\u001b[0;34m'danceability'\u001b[0m\u001b[0;34m]\u001b[0m\u001b[0;34m\u001b[0m\u001b[0;34m\u001b[0m\u001b[0m\n\u001b[1;32m      3\u001b[0m \u001b[0mduration\u001b[0m \u001b[0;34m=\u001b[0m \u001b[0me_audio_data\u001b[0m\u001b[0;34m[\u001b[0m\u001b[0me_audio_data\u001b[0m\u001b[0;34m[\u001b[0m\u001b[0;34m'target'\u001b[0m\u001b[0;34m]\u001b[0m \u001b[0;34m==\u001b[0m \u001b[0;36m1\u001b[0m\u001b[0;34m]\u001b[0m\u001b[0;34m[\u001b[0m\u001b[0;34m'duration_ms'\u001b[0m\u001b[0;34m]\u001b[0m\u001b[0;34m\u001b[0m\u001b[0;34m\u001b[0m\u001b[0m\n\u001b[1;32m      4\u001b[0m \u001b[0mloudness\u001b[0m \u001b[0;34m=\u001b[0m \u001b[0me_audio_data\u001b[0m\u001b[0;34m[\u001b[0m\u001b[0me_audio_data\u001b[0m\u001b[0;34m[\u001b[0m\u001b[0;34m'target'\u001b[0m\u001b[0;34m]\u001b[0m \u001b[0;34m==\u001b[0m \u001b[0;36m1\u001b[0m\u001b[0;34m]\u001b[0m\u001b[0;34m[\u001b[0m\u001b[0;34m'loudness'\u001b[0m\u001b[0;34m]\u001b[0m\u001b[0;34m\u001b[0m\u001b[0;34m\u001b[0m\u001b[0m\n\u001b[1;32m      5\u001b[0m \u001b[0mspeechiness\u001b[0m \u001b[0;34m=\u001b[0m \u001b[0me_audio_data\u001b[0m\u001b[0;34m[\u001b[0m\u001b[0me_audio_data\u001b[0m\u001b[0;34m[\u001b[0m\u001b[0;34m'target'\u001b[0m\u001b[0;34m]\u001b[0m \u001b[0;34m==\u001b[0m \u001b[0;36m1\u001b[0m\u001b[0;34m]\u001b[0m\u001b[0;34m[\u001b[0m\u001b[0;34m'speechiness'\u001b[0m\u001b[0;34m]\u001b[0m\u001b[0;34m\u001b[0m\u001b[0;34m\u001b[0m\u001b[0m\n",
      "\u001b[0;31mNameError\u001b[0m: name 'e_audio_data' is not defined"
     ]
    }
   ],
   "source": [
    "tempo = e_audio_data[e_audio_data['target'] == 1]['tempo']\n",
    "dance = e_audio_data[e_audio_data['target'] == 1]['danceability']\n",
    "duration = e_audio_data[e_audio_data['target'] == 1]['duration_ms']\n",
    "loudness = e_audio_data[e_audio_data['target'] == 1]['loudness']\n",
    "speechiness = e_audio_data[e_audio_data['target'] == 1]['speechiness']\n",
    "valence = e_audio_data[e_audio_data['target'] == 1]['valence']\n",
    "energy = e_audio_data[e_audio_data['target'] == 1]['energy']\n",
    "acousticness = e_audio_data[e_audio_data['target'] == 1]['acousticness']\n",
    "key = e_audio_data[e_audio_data['target'] == 1]['key']\n",
    "instrumentalness = e_audio_data[e_audio_data['target'] == 1]['instrumentalness']"
   ]
  },
  {
   "cell_type": "code",
   "execution_count": null,
   "metadata": {},
   "outputs": [],
   "source": [
    "e_audio_data = pd.DataFrame(features)\n",
    "e_audio_data\n",
    "\n",
    "tempo = e_audio_data[e_audio_data['target'] == 1]['tempo']\n",
    "dance = e_audio_data[e_audio_data['target'] == 1]['danceability']\n",
    "duration = e_audio_data[e_audio_data['target'] == 1]['duration_ms']\n",
    "loudness = e_audio_data[e_audio_data['target'] == 1]['loudness']\n",
    "speechiness = e_audio_data[e_audio_data['target'] == 1]['speechiness']\n",
    "valence = e_audio_data[e_audio_data['target'] == 1]['valence']\n",
    "energy = e_audio_data[e_audio_data['target'] == 1]['energy']\n",
    "acousticness = e_audio_data[e_audio_data['target'] == 1]['acousticness']\n",
    "key = e_audio_data[e_audio_data['target'] == 1]['key']\n",
    "instrumentalness = e_audio_data[e_audio_data['target'] == 1]['instrumentalness']\n",
    "\n",
    "e_audio_data"
   ]
  },
  {
   "cell_type": "code",
   "execution_count": null,
   "metadata": {},
   "outputs": [],
   "source": [
    "acousticness.mean()\n"
   ]
  },
  {
   "cell_type": "code",
   "execution_count": null,
   "metadata": {},
   "outputs": [],
   "source": [
    "fig = plt.figure(figsize=(12,8))\n",
    "plt.title(\"Erika's Ideal Song Components\")\n",
    "dance.hist(alpha=.7, bins=30, label='danceability', color =\"blue\")\n",
    "#speechiness.hist(alpha=.7, bins=30, label='speechiness',color =\"green\")\n",
    "energy.hist(alpha=.7, bins=30, label='energy',color =\"purple\")\n",
    "valence.hist(alpha=.7, bins=30, label='valence',color =\"pink\")\n",
    "plt.legend(loc='upper right')"
   ]
  },
  {
   "cell_type": "code",
   "execution_count": null,
   "metadata": {},
   "outputs": [],
   "source": []
  }
 ],
 "metadata": {
  "kernelspec": {
   "display_name": "Python 3",
   "language": "python",
   "name": "python3"
  },
  "language_info": {
   "codemirror_mode": {
    "name": "ipython",
    "version": 3
   },
   "file_extension": ".py",
   "mimetype": "text/x-python",
   "name": "python",
   "nbconvert_exporter": "python",
   "pygments_lexer": "ipython3",
   "version": "3.7.1"
  }
 },
 "nbformat": 4,
 "nbformat_minor": 2
}
